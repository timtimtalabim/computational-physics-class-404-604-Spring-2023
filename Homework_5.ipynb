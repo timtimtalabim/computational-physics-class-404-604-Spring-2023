{
 "cells": [
  {
   "cell_type": "code",
   "execution_count": 5,
   "id": "5ba66603",
   "metadata": {
    "scrolled": false
   },
   "outputs": [
    {
     "name": "stderr",
     "output_type": "stream",
     "text": [
      "/tmp/ipykernel_4962/2236997474.py:6: RuntimeWarning: divide by zero encountered in true_divide\n",
      "  return (10.-x*x)/x\n",
      "/tmp/ipykernel_4962/2236997474.py:9: RuntimeWarning: invalid value encountered in true_divide\n",
      "  return (-1+np.sqrt(1.+4.*3.*x*57))/6./x\n"
     ]
    },
    {
     "data": {
      "image/png": "[encoded data removed]",
      "text/plain": [
       "<Figure size 432x288 with 1 Axes>"
      ]
     },
     "metadata": {
      "needs_background": "light"
     },
     "output_type": "display_data"
    }
   ],
   "source": [
    "## Always a good idea to draw the function first\n",
    "import matplotlib.pyplot as plt\n",
    "import numpy as np\n",
    "\n",
    "def f1(x):\n",
    "    return (10.-x*x)/x\n",
    "\n",
    "def f2(x):\n",
    "    return (-1+np.sqrt(1.+4.*3.*x*57))/6./x\n",
    "\n",
    "## Draw graphics to roughly determine x1 and x2\n",
    "\n",
    "x = np.linspace(0, 3)\n",
    "y1 = f1(x)\n",
    "y2 = f2(x)\n",
    "\n",
    "plt.ylim(0,10)\n",
    "plt.xlabel(f'$x_1$')\n",
    "plt.ylabel(f'$x_2$')\n",
    "plt.plot(x, y1)\n",
    "plt.plot(x, y2)\n",
    "plt.show()"
   ]
  },
  {
   "cell_type": "code",
   "execution_count": 22,
   "id": "351ee1f5",
   "metadata": {},
   "outputs": [
    {
     "name": "stdout",
     "output_type": "stream",
     "text": [
      "Iteration 0: f1 = 0.39938817460638987, f2 = 6.0562911858691635\n",
      "Iteration 1: f1 = 0.06066065935905485, f2 = 1.2488433979509495\n",
      "Iteration 2: f1 = 0.013941145859650561, f2 = 0.26523332680861955\n",
      "Iteration 3: f1 = 0.0029180775295607475, f2 = 0.05430855291187697\n",
      "Iteration 4: f1 = 0.0005947429715007502, f2 = 0.011016230835458884\n",
      "Iteration 5: f1 = 0.00012051669552803901, f2 = 0.002230112778292437\n",
      "Iteration 6: f1 = 2.4392078220358826e-05, f2 = 0.0004512761387758246\n",
      "Iteration 7: f1 = 4.935664348337809e-06, f2 = 9.131071957568793e-05\n",
      "Iteration 8: f1 = 9.986681970275413e-07, f2 = 1.847539966348677e-05\n",
      "Iteration 9: f1 = 2.020656673096255e-07, f2 = 3.738216392434879e-06\n",
      "Iteration 10: f1 = 4.088490257458943e-08, f2 = 7.563707669078212e-07\n",
      "Iteration 11: f1 = 8.272433404954427e-09, f2 = 1.5303999845173166e-07\n",
      "Iteration 12: f1 = 1.6737971009206376e-09, f2 = 3.0965281894168584e-08\n",
      "Iteration 13: f1 = 3.3866953685901535e-10, f2 = 6.265366891966551e-09\n",
      "x1 is at: 2.0, x2 is at: 3.0000000001693343, after 13 iterations\n",
      "With precisions: 3.3866953685901535e-10, 6.265366891966551e-09 respectively\n"
     ]
    }
   ],
   "source": [
    "import matplotlib.pyplot as plt\n",
    "import numpy as np\n",
    "\n",
    "\n",
    "def f1(x1,x2):\n",
    "    return (x1*x1+x1*x2-10.)\n",
    "\n",
    "def f2(x1,x2):\n",
    "    return (x2+3*x1*x2*x2-57)\n",
    "\n",
    "def f1x1(x1,x2):\n",
    "    return (2*x1+x2)\n",
    "\n",
    "def f1x2(x1,x2):\n",
    "    return (x1)\n",
    "    \n",
    "def f2x1(x1,x2):\n",
    "    return (3*x2*x2)\n",
    "    \n",
    "def f2x2(x1,x2):\n",
    "    return (1+(6*x1*x2))\n",
    "    \n",
    "def dx1(f1,f2,f1x1,f1x2,f2x1,f2x2,x1,x2):\n",
    "    return (((f1x2(x1,x2)*f2(x1,x2))-(f2x2(x1,x2)*f1(x1,x2)))/((f1x1(x1,x2)*f2x2(x1,x2))-(f1x2(x1,x2)*f2x1(x1,x2))))\n",
    "\n",
    "def dx2(f1,f2,f1x1,f1x2,f2x1,f2x2,x1,x2):\n",
    "    return (((f2x1(x1,x2)*f1(x1,x2))-(f1x1(x1,x2)*f2(x1,x2)))/((f1x1(x1,x2)*f2x2(x1,x2))-(f1x2(x1,x2*f2x1(x1,x2)))))\n",
    "  \n",
    "Nmax = 100\n",
    "eps = 1.e-8\n",
    "x1=2.4\n",
    "x2=3.5\n",
    "\n",
    "for i in range(0, Nmax):\n",
    "    x1=x1+dx1(f1,f2,f1x1,f1x2,f2x1,f2x2,x1,x2)\n",
    "    x2=x2+dx2(f1,f2,f1x1,f1x2,f2x1,f2x2,x1,x2)\n",
    "    print(f'Iteration {i}: f1 = {f1(x1,x2)}, f2 = {f2(x1,x2)}')\n",
    "    if(f1(x1,x2)<eps and f2(x1,x2)<eps):\n",
    "        print(f'x1 is at: {x1}, x2 is at: {x2}, after {i} iterations\\nWith precisions:',\n",
    "              f'{abs(f1(x1,x2))}, {abs(f2(x1,x2))} respectively')\n",
    "        break"
   ]
  }
 ],
 "metadata": {
  "kernelspec": {
   "display_name": "Python 3 (ipykernel)",
   "language": "python",
   "name": "python3"
  },
  "language_info": {
   "codemirror_mode": {
    "name": "ipython",
    "version": 3
   },
   "file_extension": ".py",
   "mimetype": "text/x-python",
   "name": "python",
   "nbconvert_exporter": "python",
   "pygments_lexer": "ipython3",
   "version": "3.9.5"
  }
 },
 "nbformat": 4,
 "nbformat_minor": 5
}
